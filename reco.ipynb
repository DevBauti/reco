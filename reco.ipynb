{
 "cells": [
  {
   "cell_type": "code",
   "execution_count": 28,
   "metadata": {},
   "outputs": [],
   "source": [
    "import pandas as pd"
   ]
  },
  {
   "cell_type": "code",
   "execution_count": 29,
   "metadata": {},
   "outputs": [
    {
     "data": {
      "text/html": [
       "<div>\n",
       "<style scoped>\n",
       "    .dataframe tbody tr th:only-of-type {\n",
       "        vertical-align: middle;\n",
       "    }\n",
       "\n",
       "    .dataframe tbody tr th {\n",
       "        vertical-align: top;\n",
       "    }\n",
       "\n",
       "    .dataframe thead th {\n",
       "        text-align: right;\n",
       "    }\n",
       "</style>\n",
       "<table border=\"1\" class=\"dataframe\">\n",
       "  <thead>\n",
       "    <tr style=\"text-align: right;\">\n",
       "      <th></th>\n",
       "      <th>rank</th>\n",
       "      <th>year</th>\n",
       "      <th>duration</th>\n",
       "      <th>age_limit</th>\n",
       "      <th>rating</th>\n",
       "      <th>numberof_ratings</th>\n",
       "      <th>Metascore</th>\n",
       "      <th>description</th>\n",
       "      <th>name</th>\n",
       "    </tr>\n",
       "  </thead>\n",
       "  <tbody>\n",
       "    <tr>\n",
       "      <th>0</th>\n",
       "      <td>1</td>\n",
       "      <td>1994</td>\n",
       "      <td>2h 22m</td>\n",
       "      <td>15</td>\n",
       "      <td>9.3</td>\n",
       "      <td>(2.9M)</td>\n",
       "      <td>82.0</td>\n",
       "      <td>Over the course of several years, two convicts...</td>\n",
       "      <td>The Shawshank Redemption</td>\n",
       "    </tr>\n",
       "    <tr>\n",
       "      <th>1</th>\n",
       "      <td>2</td>\n",
       "      <td>1972</td>\n",
       "      <td>2h 55m</td>\n",
       "      <td>15</td>\n",
       "      <td>9.2</td>\n",
       "      <td>(2M)</td>\n",
       "      <td>100.0</td>\n",
       "      <td>The aging patriarch of an organized crime dyna...</td>\n",
       "      <td>The Godfather</td>\n",
       "    </tr>\n",
       "    <tr>\n",
       "      <th>2</th>\n",
       "      <td>3</td>\n",
       "      <td>2008</td>\n",
       "      <td>2h 32m</td>\n",
       "      <td>12A</td>\n",
       "      <td>9.0</td>\n",
       "      <td>(2.9M)</td>\n",
       "      <td>84.0</td>\n",
       "      <td>When the menace known as the Joker wreaks havo...</td>\n",
       "      <td>The Dark Knight</td>\n",
       "    </tr>\n",
       "    <tr>\n",
       "      <th>3</th>\n",
       "      <td>4</td>\n",
       "      <td>2003</td>\n",
       "      <td>3h 21m</td>\n",
       "      <td>12A</td>\n",
       "      <td>9.0</td>\n",
       "      <td>(2M)</td>\n",
       "      <td>94.0</td>\n",
       "      <td>Gandalf and Aragorn lead the World of Men agai...</td>\n",
       "      <td>The Lord of the Rings: The Return of the King</td>\n",
       "    </tr>\n",
       "    <tr>\n",
       "      <th>4</th>\n",
       "      <td>5</td>\n",
       "      <td>1993</td>\n",
       "      <td>3h 15m</td>\n",
       "      <td>15</td>\n",
       "      <td>9.0</td>\n",
       "      <td>(1.5M)</td>\n",
       "      <td>95.0</td>\n",
       "      <td>In German-occupied Poland during World War II,...</td>\n",
       "      <td>Schindler's List</td>\n",
       "    </tr>\n",
       "  </tbody>\n",
       "</table>\n",
       "</div>"
      ],
      "text/plain": [
       "   rank  year duration age_limit  rating numberof_ratings  Metascore  \\\n",
       "0     1  1994   2h 22m        15     9.3           (2.9M)       82.0   \n",
       "1     2  1972   2h 55m        15     9.2             (2M)      100.0   \n",
       "2     3  2008   2h 32m       12A     9.0           (2.9M)       84.0   \n",
       "3     4  2003   3h 21m       12A     9.0             (2M)       94.0   \n",
       "4     5  1993   3h 15m        15     9.0           (1.5M)       95.0   \n",
       "\n",
       "                                         description  \\\n",
       "0  Over the course of several years, two convicts...   \n",
       "1  The aging patriarch of an organized crime dyna...   \n",
       "2  When the menace known as the Joker wreaks havo...   \n",
       "3  Gandalf and Aragorn lead the World of Men agai...   \n",
       "4  In German-occupied Poland during World War II,...   \n",
       "\n",
       "                                             name  \n",
       "0                        The Shawshank Redemption  \n",
       "1                                   The Godfather  \n",
       "2                                 The Dark Knight  \n",
       "3   The Lord of the Rings: The Return of the King  \n",
       "4                                Schindler's List  "
      ]
     },
     "execution_count": 29,
     "metadata": {},
     "output_type": "execute_result"
    }
   ],
   "source": [
    "df = pd.read_csv('data\\imdb_kaggle.csv')\n",
    "df.head()"
   ]
  },
  {
   "cell_type": "markdown",
   "metadata": {},
   "source": [
    "Sistema de recomendaciones basado en producto\n",
    "\n",
    "Modelo TF-IDF Similitud Coseno"
   ]
  },
  {
   "cell_type": "code",
   "execution_count": 33,
   "metadata": {},
   "outputs": [],
   "source": [
    "from sklearn.feature_extraction.text import TfidfVectorizer\n",
    "from sklearn.metrics.pairwise import cosine_similarity\n",
    "\n",
    "# Eliminar los espacios innecesarios\n",
    "df['name'] = df['name'].str.strip()\n",
    "# Combinar 'name' y 'description' para crear una representación de texto de cada película\n",
    "df['content'] = df['name'] + \" \" + df['description']\n",
    "# Crear el vectorizador TF-IDF\n",
    "tfidf = TfidfVectorizer(stop_words='english')\n",
    "# Ajustar y transformar los datos\n",
    "tfidf_matrix = tfidf.fit_transform(df['content'])\n",
    "\n",
    "# Calcular la similitud del Coseno \n",
    "cosine_sim = cosine_similarity(tfidf_matrix, tfidf_matrix)\n"
   ]
  },
  {
   "cell_type": "markdown",
   "metadata": {},
   "source": [
    "Implementacion funcion para genarar la recomendacion"
   ]
  },
  {
   "cell_type": "code",
   "execution_count": 31,
   "metadata": {},
   "outputs": [
    {
     "name": "stdout",
     "output_type": "stream",
     "text": [
      "929                               Evil\n",
      "298              The Battle of Algiers\n",
      "11                          Fight Club\n",
      "539           The Manchurian Candidate\n",
      "932                Joint Security Area\n",
      "950                                300\n",
      "112                            AmÃ©lie\n",
      "208                       Rangasthalam\n",
      "432                       Nobody Knows\n",
      "18     One Flew Over the Cuckoo's Nest\n",
      "Name: name, dtype: object\n"
     ]
    }
   ],
   "source": [
    "# Funcion desde la cual generamos la recomendacion, esto se puede mejorar muchisimo mas.\n",
    "def get_recommendations(title, cosine_sim=cosine_sim):\n",
    "    # Convertir a minúsculas\n",
    "    title = title.lower()\n",
    "    df['name_lower'] = df['name'].str.lower()\n",
    "    # Verificar si el título existe\n",
    "    if title not in df['name_lower'].values:\n",
    "        return \"La película no se encuentra en el DataFrame.\"\n",
    "    \n",
    "    idx = df.index[df['name_lower'] == title].tolist()[0]\n",
    "    \n",
    "    # Obtenemos las puntuaciones\n",
    "    sim_scores = list(enumerate(cosine_sim[idx]))\n",
    "    # Ordenamos los scores \n",
    "    sim_scores = sorted(sim_scores, key=lambda x: x[1], reverse=True)\n",
    "\n",
    "    # Obtenemos los indices de los scores altos\n",
    "    sim_scores = sim_scores[1:11]\n",
    "    movie_indices = [i[0] for i in sim_scores]\n",
    "\n",
    "    # Retornamos los nombres de las peliculas\n",
    "    return df['name'].iloc[movie_indices]\n",
    "\n",
    "# Ejemplo de uso\n",
    "print(get_recommendations('Brotherhood'))\n"
   ]
  }
 ],
 "metadata": {
  "kernelspec": {
   "display_name": "env",
   "language": "python",
   "name": "python3"
  },
  "language_info": {
   "codemirror_mode": {
    "name": "ipython",
    "version": 3
   },
   "file_extension": ".py",
   "mimetype": "text/x-python",
   "name": "python",
   "nbconvert_exporter": "python",
   "pygments_lexer": "ipython3",
   "version": "3.11.9"
  }
 },
 "nbformat": 4,
 "nbformat_minor": 2
}
